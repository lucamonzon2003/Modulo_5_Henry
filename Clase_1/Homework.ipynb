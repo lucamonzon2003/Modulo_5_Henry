{
 "cells": [
  {
   "cell_type": "markdown",
   "metadata": {},
   "source": [
    "\n",
    "3. El siguiente gráfico representa el movimiento vehículo desde un punto. Interprétala y responde a las siguientes preguntas:\n",
    "- a) ¿Cuánto tiempo ha estado andando?\n",
    "- b) ¿Hasta que distancia máxima del recorrido pudo realizar?\n",
    "- c) ¿Ha hecho alguna parada?\n",
    "- d) ¿Que sucede luego del pico de mts recorrido?\n",
    "- e) ¿Cuantos metros recorrio en total?"
   ]
  },
  {
   "cell_type": "markdown",
   "metadata": {},
   "source": [
    "- a) 14 minutos\n",
    "- b) llego hasta los 80 mts\n",
    "- c) si paro a los 20 mts, durante 2 minutos\n",
    "- d) vuelve a donde partio\n",
    "- e) recorrio 160 mts en 14 minutos\n"
   ]
  },
  {
   "cell_type": "markdown",
   "metadata": {},
   "source": [
    "4. Se decide presentar el volumen de ventas de 5 productos correspondientes a una distribuidora de alimentos. Los productos van de A = 100 un., B = 95 un., C =90 un., D = 88 un., E = 105 un.\n",
    " - a) ¿Que gráfico utilizaría?.\n",
    " - b) ¿Sería correcto utilizar un gráfico de lineas? ¿Por qué?.\n",
    " - c) ¿Sería correcto utilizar un gráfico circular? ¿Por qué?.\n",
    " "
   ]
  },
  {
   "cell_type": "markdown",
   "metadata": {},
   "source": [
    "- a) un grafico de barras\n",
    "- b) no, ya que cada variable tiene solo un valor\n",
    "- c) si, ya que cada uno representarian un porcentaje de las ventas"
   ]
  },
  {
   "cell_type": "markdown",
   "metadata": {},
   "source": [
    "5. Se presenta el siguiente gráfico.\n",
    " - a) ¿Es correcta su utilización?\n",
    " - b) ¿Que inconveniente presenta a la hora de reconocer patrones?\n",
    " - c) ¿Qué otros tipos de gráficos utilizaría?\n",
    " - d) ¿Que tipo de tematicas estarían relacionadas a la variable presentada?\n",
    " "
   ]
  },
  {
   "cell_type": "markdown",
   "metadata": {},
   "source": [
    "- a) no\n",
    "- b) no, se entiende el porcentaje que representa cada variable, por el orden y por tener valores semejantes\n",
    "- c) graficos de barras\n",
    "- d) "
   ]
  }
 ],
 "metadata": {
  "language_info": {
   "name": "python"
  }
 },
 "nbformat": 4,
 "nbformat_minor": 2
}
